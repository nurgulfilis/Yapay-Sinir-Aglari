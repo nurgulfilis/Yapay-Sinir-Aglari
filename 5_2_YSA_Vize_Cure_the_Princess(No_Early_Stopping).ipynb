{
  "nbformat": 4,
  "nbformat_minor": 0,
  "metadata": {
    "colab": {
      "provenance": []
    },
    "kernelspec": {
      "name": "python3",
      "display_name": "Python 3"
    },
    "language_info": {
      "name": "python"
    },
    "gpuClass": "standard"
  },
  "cells": [
    {
      "cell_type": "code",
      "execution_count": 1,
      "metadata": {
        "id": "s2bOM7WVL7yq"
      },
      "outputs": [],
      "source": [
        "import numpy as np\n",
        "import pandas as pd\n",
        "import torch\n",
        "import torch.nn as nn\n",
        "\n",
        "import time"
      ]
    },
    {
      "cell_type": "markdown",
      "source": [
        "## Verinin Yüklenmesi"
      ],
      "metadata": {
        "id": "FXze3BYhMsuc"
      }
    },
    {
      "cell_type": "code",
      "source": [
        "start = time.time()"
      ],
      "metadata": {
        "id": "endsbrDFgK8C"
      },
      "execution_count": 2,
      "outputs": []
    },
    {
      "cell_type": "code",
      "source": [
        "train_data = pd.read_csv(\"/content/cure_the_princess_train.csv\")\n",
        "val_data = pd.read_csv(\"/content/cure_the_princess_validation.csv\")\n",
        "test_data = pd.read_csv(\"/content/cure_the_princess_test.csv\")"
      ],
      "metadata": {
        "id": "BWWHnBKHMx8O"
      },
      "execution_count": 3,
      "outputs": []
    },
    {
      "cell_type": "code",
      "source": [
        "train_data[\"Cured\"].value_counts()"
      ],
      "metadata": {
        "colab": {
          "base_uri": "https://localhost:8080/"
        },
        "id": "Rt59bepcQGSk",
        "outputId": "9fd76afa-391a-4844-bd87-c7998320edff"
      },
      "execution_count": 4,
      "outputs": [
        {
          "output_type": "execute_result",
          "data": {
            "text/plain": [
              "0    635\n",
              "1    617\n",
              "Name: Cured, dtype: int64"
            ]
          },
          "metadata": {},
          "execution_count": 4
        }
      ]
    },
    {
      "cell_type": "markdown",
      "source": [
        "## Verilerin Bölünmesi (inputs-labels şeklinde)"
      ],
      "metadata": {
        "id": "pIF0jBxAjkSv"
      }
    },
    {
      "cell_type": "code",
      "source": [
        "input_train = train_data[train_data.columns[:-1]]\n",
        "labels_train = train_data[train_data.columns[-1]]\n",
        "\n",
        "input_val = val_data[val_data.columns[:-1]]\n",
        "labels_val = val_data[val_data.columns[-1]]\n",
        "\n",
        "input_test = test_data[test_data.columns[:-1]]\n",
        "labels_test = test_data[test_data.columns[-1]]"
      ],
      "metadata": {
        "id": "Ge8t2h14i9Sf"
      },
      "execution_count": 5,
      "outputs": []
    },
    {
      "cell_type": "code",
      "source": [
        "input_train = torch.tensor(input_train.values, dtype=torch.float32)\n",
        "labels_train = torch.tensor(labels_train.values, dtype=torch.float32)\n",
        "input_val = torch.tensor(input_val.values, dtype=torch.float32)\n",
        "labels_val = torch.tensor(labels_val.values, dtype=torch.float32)\n",
        "input_test = torch.tensor(input_test.values, dtype=torch.float32)\n",
        "labels_test = torch.tensor(labels_test.values, dtype=torch.float32)"
      ],
      "metadata": {
        "id": "MWtgUJEuJHUZ"
      },
      "execution_count": 6,
      "outputs": []
    },
    {
      "cell_type": "markdown",
      "source": [
        "## Verilerin DataLoader Formatına Getirilmesi"
      ],
      "metadata": {
        "id": "YiXIAPtXQOyE"
      }
    },
    {
      "cell_type": "code",
      "source": [
        "torch.manual_seed(160401003)"
      ],
      "metadata": {
        "colab": {
          "base_uri": "https://localhost:8080/"
        },
        "id": "s9IfjAH5y62_",
        "outputId": "d37b2e90-dc39-4a5e-f940-27df0eace804"
      },
      "execution_count": 7,
      "outputs": [
        {
          "output_type": "execute_result",
          "data": {
            "text/plain": [
              "<torch._C.Generator at 0x7fc8c2d39cf0>"
            ]
          },
          "metadata": {},
          "execution_count": 7
        }
      ]
    },
    {
      "cell_type": "code",
      "source": [
        "from torch.utils.data import TensorDataset, DataLoader"
      ],
      "metadata": {
        "id": "JpFQ9yY0p5tQ"
      },
      "execution_count": 8,
      "outputs": []
    },
    {
      "cell_type": "code",
      "source": [
        "train_dataset = DataLoader(TensorDataset(input_train, labels_train), batch_size=16, shuffle=True)\n",
        "\n",
        "val_dataset = DataLoader(TensorDataset(input_val, labels_val), batch_size=16, shuffle=True)\n",
        "\n",
        "test_dataset = DataLoader(TensorDataset(input_test, labels_test), batch_size=16, shuffle=True)"
      ],
      "metadata": {
        "id": "lxz0KO2bvD0f"
      },
      "execution_count": 9,
      "outputs": []
    },
    {
      "cell_type": "markdown",
      "source": [
        "## Yapay Sinir Ağının Oluşturulması"
      ],
      "metadata": {
        "id": "JWjf6OazRghu"
      }
    },
    {
      "cell_type": "code",
      "source": [
        "class NeuralNet(nn.Module):\n",
        "    def __init__(self, num_input, num_neurons1, num_neurons2):\n",
        "        super(NeuralNet, self).__init__()\n",
        "        self.hidden_layer_1 = nn.Linear(num_input, num_neurons1) \n",
        "        self.hidden_layer_2 = nn.Linear(num_neurons1, num_neurons2)\n",
        "        self.output_layer = nn.Linear(num_neurons2, 1) \n",
        "\n",
        "        self.relu = nn.ReLU()\n",
        "        self.sigmoid = nn.Sigmoid()\n",
        "\n",
        "    def forward(self, x):\n",
        "        x = self.relu(self.hidden_layer_1(x))\n",
        "\n",
        "        x = self.relu(self.hidden_layer_2(x))\n",
        "\n",
        "        x = self.sigmoid(self.output_layer(x))\n",
        "\n",
        "        return x"
      ],
      "metadata": {
        "id": "ws6Unceijr7z"
      },
      "execution_count": 10,
      "outputs": []
    },
    {
      "cell_type": "markdown",
      "source": [
        "## Modelin Eğitilmesi"
      ],
      "metadata": {
        "id": "JBk_YmKeXW8r"
      }
    },
    {
      "cell_type": "code",
      "source": [
        "import matplotlib.pyplot as plt"
      ],
      "metadata": {
        "id": "ieAXFthZSryF"
      },
      "execution_count": 11,
      "outputs": []
    },
    {
      "cell_type": "code",
      "source": [
        "model = NeuralNet(13,100,50)\n",
        "lr=0.001\n",
        "num_epochs=120\n",
        "\n",
        "loss_func = nn.BCELoss()\n",
        "optimizer = torch.optim.SGD(model.parameters(), lr=lr)\n",
        "\n",
        "loss_train = []\n",
        "loss_val = []\n",
        "\n",
        "for epoch in range(num_epochs):\n",
        "\n",
        "  train_loss = 0.0\n",
        "  val_loss = 0.0\n",
        "  \n",
        "  for inputs, labels in train_dataset:\n",
        "      optimizer.zero_grad()\n",
        "\n",
        "      outputs = model(inputs)\n",
        "      labels = labels.unsqueeze(1)\n",
        "      loss = loss_func(outputs, labels)\n",
        "      loss.backward()\n",
        "      optimizer.step()\n",
        "\n",
        "      \n",
        "      train_loss += loss.item()\n",
        "    \n",
        "\n",
        "  model.eval()\n",
        "  with torch.no_grad():\n",
        "    for inputs, targets in val_dataset:\n",
        "      outputs = model(inputs)\n",
        "      targets = targets.reshape(-1,1)\n",
        "      loss = loss_func(outputs, targets)\n",
        "\n",
        "      val_loss += loss.item()\n",
        "\n",
        "  model.train()\n",
        "\n",
        "  train_loss /= len(train_dataset)\n",
        "  val_loss /= len(val_dataset)\n",
        "\n",
        "  print(f\"Epoch {epoch+1} train loss: {train_loss}, validation loss: {val_loss}\")\n",
        "\n",
        "  loss_train.append(train_loss)\n",
        "  loss_val.append(val_loss)\n",
        "\n",
        "plt.plot(loss_train, label='training Loss')\n",
        "plt.plot(loss_val, label='validation Loss')\n",
        "plt.xlabel('Epoch')\n",
        "plt.ylabel('Loss')\n",
        "plt.legend()\n",
        "plt.show()\n",
        "        \n",
        "\n",
        "print('Eğitim bitti.')"
      ],
      "metadata": {
        "colab": {
          "base_uri": "https://localhost:8080/",
          "height": 1000
        },
        "id": "0h2U5O_AoGqR",
        "outputId": "835243fe-099c-4bf7-9479-4ea528f66d4e"
      },
      "execution_count": 12,
      "outputs": [
        {
          "output_type": "stream",
          "name": "stdout",
          "text": [
            "Epoch 1 train loss: 0.668255850106855, validation loss: 0.5871512472629548\n",
            "Epoch 2 train loss: 0.5652281023279021, validation loss: 0.4937789723277092\n",
            "Epoch 3 train loss: 0.5024634124357489, validation loss: 0.4414946764707565\n",
            "Epoch 4 train loss: 0.4639140593854687, validation loss: 0.4515574097633362\n",
            "Epoch 5 train loss: 0.438212972653063, validation loss: 0.3687178447842598\n",
            "Epoch 6 train loss: 0.41499758558937266, validation loss: 0.34362032637000084\n",
            "Epoch 7 train loss: 0.3949772191198566, validation loss: 0.3600554272532463\n",
            "Epoch 8 train loss: 0.3762491647201248, validation loss: 0.31398119777441025\n",
            "Epoch 9 train loss: 0.3692006527245799, validation loss: 0.3079592943191528\n",
            "Epoch 10 train loss: 0.3477520556955398, validation loss: 0.28985232040286063\n",
            "Epoch 11 train loss: 0.34144736298277406, validation loss: 0.2935836546123028\n",
            "Epoch 12 train loss: 0.3330088759524913, validation loss: 0.27228689193725586\n",
            "Epoch 13 train loss: 0.3226206808150569, validation loss: 0.2587796047329903\n",
            "Epoch 14 train loss: 0.31371638593794426, validation loss: 0.25543628036975863\n",
            "Epoch 15 train loss: 0.3167147447791281, validation loss: 0.27997463978827\n",
            "Epoch 16 train loss: 0.30477186867707895, validation loss: 0.2655886568129063\n",
            "Epoch 17 train loss: 0.30118949070006984, validation loss: 0.2827352277934551\n",
            "Epoch 18 train loss: 0.29580330282826967, validation loss: 0.2318444073200226\n",
            "Epoch 19 train loss: 0.2885903918856307, validation loss: 0.2348076656460762\n",
            "Epoch 20 train loss: 0.2827199028828476, validation loss: 0.22402708530426024\n",
            "Epoch 21 train loss: 0.2795120563499535, validation loss: 0.22512350380420684\n",
            "Epoch 22 train loss: 0.27725048231173166, validation loss: 0.2200093310326338\n",
            "Epoch 23 train loss: 0.2707570904417883, validation loss: 0.21984558030962945\n",
            "Epoch 24 train loss: 0.2676101823490632, validation loss: 0.21816202737390994\n",
            "Epoch 25 train loss: 0.26372554379550717, validation loss: 0.21383352763950825\n",
            "Epoch 26 train loss: 0.2664493828823295, validation loss: 0.2565439447760582\n",
            "Epoch 27 train loss: 0.2601014164429677, validation loss: 0.21441498771309853\n",
            "Epoch 28 train loss: 0.254936874384367, validation loss: 0.20680731609463693\n",
            "Epoch 29 train loss: 0.24810403255344946, validation loss: 0.2244489338248968\n",
            "Epoch 30 train loss: 0.24763466423683905, validation loss: 0.20928591601550578\n",
            "Epoch 31 train loss: 0.24787466803306266, validation loss: 0.20638911463320256\n",
            "Epoch 32 train loss: 0.24292952869134612, validation loss: 0.21837172880768776\n",
            "Epoch 33 train loss: 0.24057014982062805, validation loss: 0.2045689858496189\n",
            "Epoch 34 train loss: 0.23647732551716552, validation loss: 0.19749507941305638\n",
            "Epoch 35 train loss: 0.23469498621512064, validation loss: 0.19541323482990264\n",
            "Epoch 36 train loss: 0.23413788088703458, validation loss: 0.195506651699543\n",
            "Epoch 37 train loss: 0.23153387877760054, validation loss: 0.2016015224158764\n",
            "Epoch 38 train loss: 0.23207725697680365, validation loss: 0.19829655289649964\n",
            "Epoch 39 train loss: 0.22647153812495968, validation loss: 0.19369145184755326\n",
            "Epoch 40 train loss: 0.22383244637447067, validation loss: 0.19252201803028585\n",
            "Epoch 41 train loss: 0.21981851468923724, validation loss: 0.1910363782197237\n",
            "Epoch 42 train loss: 0.21702402683941624, validation loss: 0.18743113428354263\n",
            "Epoch 43 train loss: 0.21446341188931012, validation loss: 0.18704375624656677\n",
            "Epoch 44 train loss: 0.21752532882780967, validation loss: 0.18618177101016045\n",
            "Epoch 45 train loss: 0.21260247398403626, validation loss: 0.1879817547276616\n",
            "Epoch 46 train loss: 0.20815797282170645, validation loss: 0.19091066308319568\n",
            "Epoch 47 train loss: 0.20785463337279572, validation loss: 0.18620166126638651\n",
            "Epoch 48 train loss: 0.20585197976589958, validation loss: 0.18535270858556033\n",
            "Epoch 49 train loss: 0.20338791080668003, validation loss: 0.18773659113794566\n",
            "Epoch 50 train loss: 0.20527636387114284, validation loss: 0.18364619910717012\n",
            "Epoch 51 train loss: 0.19810050645772415, validation loss: 0.1898387886583805\n",
            "Epoch 52 train loss: 0.19850227392361133, validation loss: 0.18923250138759612\n",
            "Epoch 53 train loss: 0.19527030391972275, validation loss: 0.19312682934105396\n",
            "Epoch 54 train loss: 0.19386835089778598, validation loss: 0.18230667095631362\n",
            "Epoch 55 train loss: 0.1922623019052457, validation loss: 0.18897951059043408\n",
            "Epoch 56 train loss: 0.19125495657702035, validation loss: 0.1788349524140358\n",
            "Epoch 57 train loss: 0.19047980517431906, validation loss: 0.1780579848214984\n",
            "Epoch 58 train loss: 0.187825815822882, validation loss: 0.2098542209714651\n",
            "Epoch 59 train loss: 0.18656548183364205, validation loss: 0.18782854676246644\n",
            "Epoch 60 train loss: 0.184406130091299, validation loss: 0.21032635699957608\n",
            "Epoch 61 train loss: 0.18529086126179634, validation loss: 0.1828083351254463\n",
            "Epoch 62 train loss: 0.1929698303530488, validation loss: 0.22993811331689357\n",
            "Epoch 63 train loss: 0.18245241043594065, validation loss: 0.17469295095652343\n",
            "Epoch 64 train loss: 0.1792995260580431, validation loss: 0.18440813105553389\n",
            "Epoch 65 train loss: 0.17488209174686595, validation loss: 0.18072319645434617\n",
            "Epoch 66 train loss: 0.17773053299965738, validation loss: 0.203666615486145\n",
            "Epoch 67 train loss: 0.17476540968953808, validation loss: 0.1952487388625741\n",
            "Epoch 68 train loss: 0.17278889783575566, validation loss: 0.17521024830639362\n",
            "Epoch 69 train loss: 0.17197765051564085, validation loss: 0.17260538432747125\n",
            "Epoch 70 train loss: 0.17269820451170584, validation loss: 0.19497926235198976\n",
            "Epoch 71 train loss: 0.1742827399527725, validation loss: 0.20601540952920913\n",
            "Epoch 72 train loss: 0.16716351527484913, validation loss: 0.1689096499234438\n",
            "Epoch 73 train loss: 0.16659662584903873, validation loss: 0.1701182283461094\n",
            "Epoch 74 train loss: 0.16711089104602608, validation loss: 0.18392458837479353\n",
            "Epoch 75 train loss: 0.16453461368756864, validation loss: 0.17021519634872675\n",
            "Epoch 76 train loss: 0.16456496163825446, validation loss: 0.1712092960253358\n",
            "Epoch 77 train loss: 0.16178598287927953, validation loss: 0.16708181854337453\n",
            "Epoch 78 train loss: 0.16127106665244587, validation loss: 0.1763855442404747\n",
            "Epoch 79 train loss: 0.16023777604480333, validation loss: 0.17313947305083274\n",
            "Epoch 80 train loss: 0.15802154435681862, validation loss: 0.1721726505085826\n",
            "Epoch 81 train loss: 0.15617777025209198, validation loss: 0.16880975095555187\n",
            "Epoch 82 train loss: 0.1581375601972583, validation loss: 0.16608103681355715\n",
            "Epoch 83 train loss: 0.15680164409966407, validation loss: 0.1693946050480008\n",
            "Epoch 84 train loss: 0.15597595184852805, validation loss: 0.1704534400254488\n",
            "Epoch 85 train loss: 0.15363072995332222, validation loss: 0.18739428073167802\n",
            "Epoch 86 train loss: 0.15425876577538025, validation loss: 0.16386794447898864\n",
            "Epoch 87 train loss: 0.15181729023026513, validation loss: 0.17397837564349175\n",
            "Epoch 88 train loss: 0.15220762492169307, validation loss: 0.17407126538455486\n",
            "Epoch 89 train loss: 0.15019776969204976, validation loss: 0.16558624487370252\n",
            "Epoch 90 train loss: 0.14858945812204782, validation loss: 0.16426752004772424\n",
            "Epoch 91 train loss: 0.1483537506524332, validation loss: 0.1644232239574194\n",
            "Epoch 92 train loss: 0.1464563396676809, validation loss: 0.20047487821429968\n",
            "Epoch 93 train loss: 0.1474867334377162, validation loss: 0.16507923062890767\n",
            "Epoch 94 train loss: 0.14860178836727445, validation loss: 0.1664205734618008\n",
            "Epoch 95 train loss: 0.14593042387874633, validation loss: 0.16184596940875054\n",
            "Epoch 96 train loss: 0.14282790307379975, validation loss: 0.1775880055502057\n",
            "Epoch 97 train loss: 0.14333922470200666, validation loss: 0.1633721353020519\n",
            "Epoch 98 train loss: 0.15000205145134957, validation loss: 0.19547921195626258\n",
            "Epoch 99 train loss: 0.14570679480233525, validation loss: 0.16224703788757325\n",
            "Epoch 100 train loss: 0.14015753121598612, validation loss: 0.15861487276852132\n",
            "Epoch 101 train loss: 0.13834450523593003, validation loss: 0.16032955572009086\n",
            "Epoch 102 train loss: 0.1396028548950636, validation loss: 0.15928705148398875\n",
            "Epoch 103 train loss: 0.13662193663701228, validation loss: 0.15670878691598772\n",
            "Epoch 104 train loss: 0.13723107717365404, validation loss: 0.161537557374686\n",
            "Epoch 105 train loss: 0.13467066335385736, validation loss: 0.15654010605067015\n",
            "Epoch 106 train loss: 0.13555065584899503, validation loss: 0.16816298197954893\n",
            "Epoch 107 train loss: 0.13574945844144007, validation loss: 0.16228579208254815\n",
            "Epoch 108 train loss: 0.13408526214712027, validation loss: 0.16123863039538264\n",
            "Epoch 109 train loss: 0.1337851173232628, validation loss: 0.15684975478798152\n",
            "Epoch 110 train loss: 0.13282445393785647, validation loss: 0.15751139763742686\n",
            "Epoch 111 train loss: 0.13181024766232394, validation loss: 0.16188257727771999\n",
            "Epoch 112 train loss: 0.13181510600674, validation loss: 0.16392962811514736\n",
            "Epoch 113 train loss: 0.13028470789895782, validation loss: 0.16275864122435452\n",
            "Epoch 114 train loss: 0.1393464393913746, validation loss: 0.1599328107666224\n",
            "Epoch 115 train loss: 0.12952899675863452, validation loss: 0.1570368598215282\n",
            "Epoch 116 train loss: 0.12937596520479722, validation loss: 0.15893691144883632\n",
            "Epoch 117 train loss: 0.1266328950023538, validation loss: 0.16489081392064692\n",
            "Epoch 118 train loss: 0.1279393344457391, validation loss: 0.16839206730946898\n",
            "Epoch 119 train loss: 0.12830286883289302, validation loss: 0.1581111869774759\n",
            "Epoch 120 train loss: 0.12612168271613272, validation loss: 0.1671475624665618\n"
          ]
        },
        {
          "output_type": "display_data",
          "data": {
            "text/plain": [
              "<Figure size 640x480 with 1 Axes>"
            ],
            "image/png": "[encoded data removed]"
          },
          "metadata": {}
        },
        {
          "output_type": "stream",
          "name": "stdout",
          "text": [
            "Eğitim bitti.\n"
          ]
        }
      ]
    },
    {
      "cell_type": "code",
      "source": [
        "end = time.time()\n",
        "print(end-start)"
      ],
      "metadata": {
        "id": "J3FrEq1WJaxF",
        "colab": {
          "base_uri": "https://localhost:8080/"
        },
        "outputId": "85f55c34-1b41-44c7-858d-abec923a43dd"
      },
      "execution_count": 13,
      "outputs": [
        {
          "output_type": "stream",
          "name": "stdout",
          "text": [
            "19.210026502609253\n"
          ]
        }
      ]
    }
  ]
}