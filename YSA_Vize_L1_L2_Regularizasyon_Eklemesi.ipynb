{
  "nbformat": 4,
  "nbformat_minor": 0,
  "metadata": {
    "colab": {
      "provenance": []
    },
    "kernelspec": {
      "name": "python3",
      "display_name": "Python 3"
    },
    "language_info": {
      "name": "python"
    },
    "gpuClass": "standard"
  },
  "cells": [
    {
      "cell_type": "code",
      "execution_count": 1,
      "metadata": {
        "id": "s2bOM7WVL7yq"
      },
      "outputs": [],
      "source": [
        "import numpy as np\n",
        "import pandas as pd\n",
        "import torch\n",
        "import torch.nn as nn"
      ]
    },
    {
      "cell_type": "markdown",
      "source": [
        "## Verinin Yüklenmesi"
      ],
      "metadata": {
        "id": "FXze3BYhMsuc"
      }
    },
    {
      "cell_type": "code",
      "source": [
        "train_data = pd.read_csv(\"/content/cure_the_princess_train.csv\")\n",
        "val_data = pd.read_csv(\"/content/cure_the_princess_validation.csv\")\n",
        "test_data = pd.read_csv(\"/content/cure_the_princess_test.csv\")"
      ],
      "metadata": {
        "id": "BWWHnBKHMx8O"
      },
      "execution_count": 2,
      "outputs": []
    },
    {
      "cell_type": "code",
      "source": [
        "train_data[\"Cured\"].value_counts()"
      ],
      "metadata": {
        "colab": {
          "base_uri": "https://localhost:8080/"
        },
        "id": "Rt59bepcQGSk",
        "outputId": "56f6b73a-46ae-404d-988e-d55d72192207"
      },
      "execution_count": 3,
      "outputs": [
        {
          "output_type": "execute_result",
          "data": {
            "text/plain": [
              "0    635\n",
              "1    617\n",
              "Name: Cured, dtype: int64"
            ]
          },
          "metadata": {},
          "execution_count": 3
        }
      ]
    },
    {
      "cell_type": "markdown",
      "source": [
        "## Verilerin Bölünmesi (inputs-labels şeklinde)"
      ],
      "metadata": {
        "id": "pIF0jBxAjkSv"
      }
    },
    {
      "cell_type": "code",
      "source": [
        "input_train = train_data[train_data.columns[:-1]]\n",
        "labels_train = train_data[train_data.columns[-1]]\n",
        "\n",
        "input_val = val_data[val_data.columns[:-1]]\n",
        "labels_val = val_data[val_data.columns[-1]]\n",
        "\n",
        "input_test = test_data[test_data.columns[:-1]]\n",
        "labels_test = test_data[test_data.columns[-1]]"
      ],
      "metadata": {
        "id": "Ge8t2h14i9Sf"
      },
      "execution_count": 4,
      "outputs": []
    },
    {
      "cell_type": "code",
      "source": [
        "input_train = torch.tensor(input_train.values, dtype=torch.float32)\n",
        "labels_train = torch.tensor(labels_train.values, dtype=torch.float32)\n",
        "input_val = torch.tensor(input_val.values, dtype=torch.float32)\n",
        "labels_val = torch.tensor(labels_val.values, dtype=torch.float32)\n",
        "input_test = torch.tensor(input_test.values, dtype=torch.float32)\n",
        "labels_test = torch.tensor(labels_test.values, dtype=torch.float32)"
      ],
      "metadata": {
        "id": "MWtgUJEuJHUZ"
      },
      "execution_count": 5,
      "outputs": []
    },
    {
      "cell_type": "markdown",
      "source": [
        "## Verilerin DataLoader Formatına Getirilmesi"
      ],
      "metadata": {
        "id": "YiXIAPtXQOyE"
      }
    },
    {
      "cell_type": "code",
      "source": [
        "torch.manual_seed(160401003)"
      ],
      "metadata": {
        "colab": {
          "base_uri": "https://localhost:8080/"
        },
        "id": "s9IfjAH5y62_",
        "outputId": "d724d9ca-7d9e-4d1d-8a7f-2c1236b3fad9"
      },
      "execution_count": 6,
      "outputs": [
        {
          "output_type": "execute_result",
          "data": {
            "text/plain": [
              "<torch._C.Generator at 0x7f1d8128dd50>"
            ]
          },
          "metadata": {},
          "execution_count": 6
        }
      ]
    },
    {
      "cell_type": "code",
      "source": [
        "from torch.utils.data import TensorDataset, DataLoader"
      ],
      "metadata": {
        "id": "JpFQ9yY0p5tQ"
      },
      "execution_count": 7,
      "outputs": []
    },
    {
      "cell_type": "code",
      "source": [
        "train_dataset = DataLoader(TensorDataset(input_train, labels_train), batch_size=16, shuffle=True)\n",
        "\n",
        "val_dataset = DataLoader(TensorDataset(input_val, labels_val), batch_size=16, shuffle=True)\n",
        "\n",
        "test_dataset = DataLoader(TensorDataset(input_test, labels_test), batch_size=16, shuffle=True)"
      ],
      "metadata": {
        "id": "lxz0KO2bvD0f"
      },
      "execution_count": 8,
      "outputs": []
    },
    {
      "cell_type": "markdown",
      "source": [
        "## Regularizasyon Fonksiyonları"
      ],
      "metadata": {
        "id": "Arcn58qlX8J_"
      }
    },
    {
      "cell_type": "code",
      "source": [
        "def l1_reg(model):\n",
        " \n",
        "  l1 = 0.0\n",
        "  \n",
        "  for param in model.parameters():\n",
        "    l1 += torch.sum(abs(param))\n",
        "\n",
        "  return l1"
      ],
      "metadata": {
        "id": "RYlmRK3iX_H6"
      },
      "execution_count": 9,
      "outputs": []
    },
    {
      "cell_type": "code",
      "source": [
        "def l2_reg(model):\n",
        "\n",
        "  l2 = 0.0\n",
        "  for param in model.parameters():\n",
        "    l2 += torch.sum(param**2)\n",
        "\n",
        "  return l2"
      ],
      "metadata": {
        "id": "hsvDXzeGYCrk"
      },
      "execution_count": 10,
      "outputs": []
    },
    {
      "cell_type": "markdown",
      "source": [
        "## Yapay Sinir Ağının Oluşturulması"
      ],
      "metadata": {
        "id": "JWjf6OazRghu"
      }
    },
    {
      "cell_type": "code",
      "source": [
        "class NeuralNet(nn.Module):\n",
        "    def __init__(self, num_input, num_neurons1, num_neurons2):\n",
        "        super(NeuralNet, self).__init__()\n",
        "        self.hidden_layer_1 = nn.Linear(num_input, num_neurons1) \n",
        "        self.hidden_layer_2 = nn.Linear(num_neurons1, num_neurons2)\n",
        "        self.output_layer = nn.Linear(num_neurons2, 1) \n",
        "\n",
        "        self.relu = nn.ReLU()\n",
        "        self.sigmoid = nn.Sigmoid()\n",
        "\n",
        "    def forward(self, x):\n",
        "        x = self.relu(self.hidden_layer_1(x))\n",
        "\n",
        "        x = self.relu(self.hidden_layer_2(x))\n",
        "\n",
        "        x = self.sigmoid(self.output_layer(x))\n",
        "\n",
        "        return x"
      ],
      "metadata": {
        "id": "ws6Unceijr7z"
      },
      "execution_count": 11,
      "outputs": []
    },
    {
      "cell_type": "markdown",
      "source": [
        "## Modelin Eğitilmesi"
      ],
      "metadata": {
        "id": "JBk_YmKeXW8r"
      }
    },
    {
      "cell_type": "code",
      "source": [
        "import matplotlib.pyplot as plt"
      ],
      "metadata": {
        "id": "ieAXFthZSryF"
      },
      "execution_count": 12,
      "outputs": []
    },
    {
      "cell_type": "code",
      "source": [
        "model = NeuralNet(13,100,50)\n",
        "lr=0.001\n",
        "num_epochs=120\n",
        "\n",
        "lambda1=0.0001\n",
        "lambda2=0.0002\n",
        "\n",
        "loss_func = nn.BCELoss()\n",
        "optimizer = torch.optim.SGD(model.parameters(), lr=lr)\n",
        "\n",
        "loss_train = []\n",
        "loss_val = []\n",
        "\n",
        "for epoch in range(num_epochs):\n",
        "\n",
        "  train_loss = 0.0\n",
        "  val_loss = 0.0\n",
        "  \n",
        "  for inputs, target in train_dataset:\n",
        "      optimizer.zero_grad()\n",
        "\n",
        "      outputs = model(inputs)\n",
        "      target = target.unsqueeze(1)\n",
        "      loss = loss_func(outputs, target) + lambda1*l1_reg(model) + lambda2*l2_reg(model)\n",
        "      loss.backward()\n",
        "      optimizer.step()\n",
        "\n",
        "      \n",
        "      train_loss += loss.item() \n",
        "\n",
        "  model.eval()\n",
        "  with torch.no_grad():\n",
        "    for inputs, targets in val_dataset:\n",
        "      outputs = model(inputs)\n",
        "      targets = targets.reshape(-1,1)\n",
        "      loss = loss_func(outputs, targets)\n",
        "\n",
        "      val_loss += loss.item()\n",
        "\n",
        "  model.train()\n",
        "\n",
        "  train_loss /= len(train_dataset)\n",
        "  val_loss /= len(val_dataset)\n",
        "\n",
        "  print(f\"Epoch {epoch+1} train loss: {train_loss}, validation loss: {val_loss}\")\n",
        "\n",
        "  loss_train.append(train_loss)\n",
        "  loss_val.append(val_loss)\n",
        "\n",
        "torch.save(model.state_dict(), \"model.pt\")\n",
        "plt.plot(loss_train, label='training Loss')\n",
        "plt.plot(loss_val, label='validation Loss')\n",
        "plt.xlabel('Epoch')\n",
        "plt.ylabel('Loss')\n",
        "plt.legend()\n",
        "plt.show()\n",
        "        \n",
        "\n",
        "print('Eğitim bitti.')"
      ],
      "metadata": {
        "colab": {
          "base_uri": "https://localhost:8080/",
          "height": 1000
        },
        "id": "0h2U5O_AoGqR",
        "outputId": "fd4423c2-1bfc-41b4-da1a-7a53153fd939"
      },
      "execution_count": 13,
      "outputs": [
        {
          "output_type": "stream",
          "name": "stdout",
          "text": [
            "Epoch 1 train loss: 0.7237182048302663, validation loss: 0.5871554434299469\n",
            "Epoch 2 train loss: 0.6207220452495769, validation loss: 0.4938277259469032\n",
            "Epoch 3 train loss: 0.5580202676827395, validation loss: 0.441486656665802\n",
            "Epoch 4 train loss: 0.5195170293880415, validation loss: 0.4515673443675041\n",
            "Epoch 5 train loss: 0.4938837391666219, validation loss: 0.3688434012234211\n",
            "Epoch 6 train loss: 0.47070713322373886, validation loss: 0.3439315788447857\n",
            "Epoch 7 train loss: 0.4507208858864217, validation loss: 0.36018486618995665\n",
            "Epoch 8 train loss: 0.4320465484751931, validation loss: 0.3143345847725868\n",
            "Epoch 9 train loss: 0.42502709487570994, validation loss: 0.3081497117877007\n",
            "Epoch 10 train loss: 0.4036226644168926, validation loss: 0.2901453211903572\n",
            "Epoch 11 train loss: 0.3973482817034178, validation loss: 0.29402403607964517\n",
            "Epoch 12 train loss: 0.3889327345392372, validation loss: 0.2726131074130535\n",
            "Epoch 13 train loss: 0.37860076997099046, validation loss: 0.25912231728434565\n",
            "Epoch 14 train loss: 0.3697330959235566, validation loss: 0.25581552758812903\n",
            "Epoch 15 train loss: 0.37275354715087744, validation loss: 0.28012507744133475\n",
            "Epoch 16 train loss: 0.3608898803403106, validation loss: 0.26861928328871726\n",
            "Epoch 17 train loss: 0.3574757291169106, validation loss: 0.28341877460479736\n",
            "Epoch 18 train loss: 0.35201835670048676, validation loss: 0.23235081061720847\n",
            "Epoch 19 train loss: 0.34479167434988145, validation loss: 0.23501459620893\n",
            "Epoch 20 train loss: 0.3389273074608815, validation loss: 0.22434597834944725\n",
            "Epoch 21 train loss: 0.33576598348496833, validation loss: 0.22552180364727975\n",
            "Epoch 22 train loss: 0.333536662632906, validation loss: 0.22034039720892906\n",
            "Epoch 23 train loss: 0.327030716628968, validation loss: 0.2201432019472122\n",
            "Epoch 24 train loss: 0.32390228347687783, validation loss: 0.21848090998828412\n",
            "Epoch 25 train loss: 0.3199952254189721, validation loss: 0.21423676125705243\n",
            "Epoch 26 train loss: 0.3228018104652815, validation loss: 0.2565543867647648\n",
            "Epoch 27 train loss: 0.31642804077908965, validation loss: 0.214732651039958\n",
            "Epoch 28 train loss: 0.3113244774786732, validation loss: 0.20721216760575772\n",
            "Epoch 29 train loss: 0.3045031354774403, validation loss: 0.22466415390372277\n",
            "Epoch 30 train loss: 0.30396066912555997, validation loss: 0.20957813896238803\n",
            "Epoch 31 train loss: 0.30426598991019815, validation loss: 0.2067858587950468\n",
            "Epoch 32 train loss: 0.29928425652316853, validation loss: 0.2191867630928755\n",
            "Epoch 33 train loss: 0.29698240832437445, validation loss: 0.2049185737967491\n",
            "Epoch 34 train loss: 0.2927386480607564, validation loss: 0.1979364540427923\n",
            "Epoch 35 train loss: 0.2909745002471948, validation loss: 0.1958509109914303\n",
            "Epoch 36 train loss: 0.2904251152767411, validation loss: 0.19578952342271805\n",
            "Epoch 37 train loss: 0.28794066664538803, validation loss: 0.20189121775329114\n",
            "Epoch 38 train loss: 0.28855150381598293, validation loss: 0.19819187857210635\n",
            "Epoch 39 train loss: 0.2830907240321365, validation loss: 0.1937589805573225\n",
            "Epoch 40 train loss: 0.2804739279083059, validation loss: 0.19261471927165985\n",
            "Epoch 41 train loss: 0.2766113398195822, validation loss: 0.19121337905526162\n",
            "Epoch 42 train loss: 0.2737313265664668, validation loss: 0.1876841876655817\n",
            "Epoch 43 train loss: 0.27125094434883024, validation loss: 0.18712532576173543\n",
            "Epoch 44 train loss: 0.2742643491188182, validation loss: 0.18650883436203003\n",
            "Epoch 45 train loss: 0.26929831702875184, validation loss: 0.187980330362916\n",
            "Epoch 46 train loss: 0.2649591897107378, validation loss: 0.1908675331622362\n",
            "Epoch 47 train loss: 0.26457687042936495, validation loss: 0.1863001875579357\n",
            "Epoch 48 train loss: 0.2625690073340754, validation loss: 0.1855601066723466\n",
            "Epoch 49 train loss: 0.26020170163504686, validation loss: 0.18821648973971605\n",
            "Epoch 50 train loss: 0.26210223402403576, validation loss: 0.18368164617568256\n",
            "Epoch 51 train loss: 0.25493870336043684, validation loss: 0.1897173672914505\n",
            "Epoch 52 train loss: 0.2553807539464552, validation loss: 0.18935707230120896\n",
            "Epoch 53 train loss: 0.2521740095336226, validation loss: 0.19337402544915677\n",
            "Epoch 54 train loss: 0.25074356907530676, validation loss: 0.18251710291951895\n",
            "Epoch 55 train loss: 0.2491873212252991, validation loss: 0.18875164091587066\n",
            "Epoch 56 train loss: 0.24828892502980895, validation loss: 0.17890494987368583\n",
            "Epoch 57 train loss: 0.24744129001717025, validation loss: 0.17807653415948152\n",
            "Epoch 58 train loss: 0.24476420888795128, validation loss: 0.21021345630288124\n",
            "Epoch 59 train loss: 0.24359670073925693, validation loss: 0.18808361943811178\n",
            "Epoch 60 train loss: 0.24143360243945183, validation loss: 0.21037502624094487\n",
            "Epoch 61 train loss: 0.2422988693925399, validation loss: 0.18255488406866788\n",
            "Epoch 62 train loss: 0.24996754979785485, validation loss: 0.22917494140565395\n",
            "Epoch 63 train loss: 0.23947595521996293, validation loss: 0.17471258379518986\n",
            "Epoch 64 train loss: 0.2363998739025261, validation loss: 0.1845239084213972\n",
            "Epoch 65 train loss: 0.2320148113973533, validation loss: 0.18066883981227874\n",
            "Epoch 66 train loss: 0.23491358785312386, validation loss: 0.20376279167830944\n",
            "Epoch 67 train loss: 0.23187621315068838, validation loss: 0.19545439071953297\n",
            "Epoch 68 train loss: 0.22993916838983947, validation loss: 0.1749950172379613\n",
            "Epoch 69 train loss: 0.22916415993925893, validation loss: 0.17247652374207972\n",
            "Epoch 70 train loss: 0.22998539188617392, validation loss: 0.19598123859614133\n",
            "Epoch 71 train loss: 0.23160216117961496, validation loss: 0.20525375790894032\n",
            "Epoch 72 train loss: 0.2243414484435999, validation loss: 0.16894713845103979\n",
            "Epoch 73 train loss: 0.2238333362001407, validation loss: 0.17058725683018566\n",
            "Epoch 74 train loss: 0.2243494388612011, validation loss: 0.18381510395556688\n",
            "Epoch 75 train loss: 0.22179251984704898, validation loss: 0.17022165432572364\n",
            "Epoch 76 train loss: 0.2218049228945865, validation loss: 0.17150241527706384\n",
            "Epoch 77 train loss: 0.21905035176609136, validation loss: 0.16710313092917203\n",
            "Epoch 78 train loss: 0.21853759243518492, validation loss: 0.17617458924651147\n",
            "Epoch 79 train loss: 0.21743835244752183, validation loss: 0.17317277602851391\n",
            "Epoch 80 train loss: 0.21530907063544552, validation loss: 0.17211030125617982\n",
            "Epoch 81 train loss: 0.21350590677200992, validation loss: 0.16849098559468983\n",
            "Epoch 82 train loss: 0.21536648763885982, validation loss: 0.16578567456454038\n",
            "Epoch 83 train loss: 0.21417365562689455, validation loss: 0.16908422484993935\n",
            "Epoch 84 train loss: 0.2132554757821409, validation loss: 0.169898671656847\n",
            "Epoch 85 train loss: 0.21090555021279975, validation loss: 0.18801796324551107\n",
            "Epoch 86 train loss: 0.2115737824123117, validation loss: 0.16386403609067202\n",
            "Epoch 87 train loss: 0.2091292559723311, validation loss: 0.1737293964251876\n",
            "Epoch 88 train loss: 0.2095732987870144, validation loss: 0.17373186014592648\n",
            "Epoch 89 train loss: 0.20761332774086844, validation loss: 0.1653257876634598\n",
            "Epoch 90 train loss: 0.20596598989412754, validation loss: 0.1640700999647379\n",
            "Epoch 91 train loss: 0.2056997281180907, validation loss: 0.16431984566152097\n",
            "Epoch 92 train loss: 0.20383895933628082, validation loss: 0.1996920330449939\n",
            "Epoch 93 train loss: 0.20492963700354855, validation loss: 0.16470078770071267\n",
            "Epoch 94 train loss: 0.20603470277937153, validation loss: 0.1659317878074944\n",
            "Epoch 95 train loss: 0.20330563376221475, validation loss: 0.1614338703919202\n",
            "Epoch 96 train loss: 0.20036047517876082, validation loss: 0.1773828024044633\n",
            "Epoch 97 train loss: 0.20083470416219928, validation loss: 0.16296502822078765\n",
            "Epoch 98 train loss: 0.20764667248424096, validation loss: 0.19533953834325074\n",
            "Epoch 99 train loss: 0.20319551323788076, validation loss: 0.16162830367684364\n",
            "Epoch 100 train loss: 0.19777760607532308, validation loss: 0.15811280272901057\n",
            "Epoch 101 train loss: 0.19594555791420273, validation loss: 0.1600503553636372\n",
            "Epoch 102 train loss: 0.19724282735510718, validation loss: 0.15896513164043427\n",
            "Epoch 103 train loss: 0.1942110126720199, validation loss: 0.15632465900853276\n",
            "Epoch 104 train loss: 0.19495175128118902, validation loss: 0.16107638413086534\n",
            "Epoch 105 train loss: 0.19222049462267116, validation loss: 0.15624664910137653\n",
            "Epoch 106 train loss: 0.19316053720591944, validation loss: 0.16800097711384296\n",
            "Epoch 107 train loss: 0.19322297627790064, validation loss: 0.1622570836916566\n",
            "Epoch 108 train loss: 0.19170935150188737, validation loss: 0.16115083638578653\n",
            "Epoch 109 train loss: 0.19130606298582464, validation loss: 0.15704006552696229\n",
            "Epoch 110 train loss: 0.1905230862807624, validation loss: 0.15734062418341638\n",
            "Epoch 111 train loss: 0.18952071374352975, validation loss: 0.16167489364743232\n",
            "Epoch 112 train loss: 0.1895558429481108, validation loss: 0.16347608380019665\n",
            "Epoch 113 train loss: 0.18796475646616537, validation loss: 0.1625792993232608\n",
            "Epoch 114 train loss: 0.19701302315615402, validation loss: 0.15942453742027282\n",
            "Epoch 115 train loss: 0.1872722763992563, validation loss: 0.15677967630326747\n",
            "Epoch 116 train loss: 0.18716171968586837, validation loss: 0.1586425332352519\n",
            "Epoch 117 train loss: 0.1843875374503528, validation loss: 0.16443804902955889\n",
            "Epoch 118 train loss: 0.1857168373616436, validation loss: 0.16770014455541968\n",
            "Epoch 119 train loss: 0.185934694507454, validation loss: 0.1581505042500794\n",
            "Epoch 120 train loss: 0.18377750498961798, validation loss: 0.16738755777478218\n"
          ]
        },
        {
          "output_type": "display_data",
          "data": {
            "text/plain": [
              "<Figure size 640x480 with 1 Axes>"
            ],
            "image/png": "[encoded data removed]"
          },
          "metadata": {}
        },
        {
          "output_type": "stream",
          "name": "stdout",
          "text": [
            "Eğitim bitti.\n"
          ]
        }
      ]
    },
    {
      "cell_type": "code",
      "source": [
        "from sklearn.metrics import accuracy_score, f1_score, precision_score, recall_score"
      ],
      "metadata": {
        "id": "H64wkWGjRoou"
      },
      "execution_count": 14,
      "outputs": []
    },
    {
      "cell_type": "code",
      "source": [
        "best_model = NeuralNet(13,100,50)\n",
        "checkpoint = torch.load('/content/model.pt')\n",
        "best_model.load_state_dict(checkpoint)\n",
        "best_model.eval()\n",
        "\n",
        "preds = []\n",
        "real_labels = []\n",
        "\n",
        "with torch.no_grad():\n",
        "  for inputs,label in test_dataset:\n",
        "\n",
        "      output = best_model(inputs)\n",
        "      \n",
        "      for i in output:\n",
        "        predict = 0 if i<0.5 else 1\n",
        "        preds.append(predict)\n",
        "     \n",
        "      \n",
        "      for i in label:\n",
        "        real_labels.append(int(i))\n",
        "\n",
        "accuracy = accuracy_score(real_labels,preds)      \n",
        "f1_score = f1_score(real_labels,preds)\n",
        "precision = precision_score(real_labels,preds)\n",
        "recall = recall_score(real_labels,preds)\n",
        "\n",
        "print(f\"Accuracy: \" + str(accuracy) +\", F1-Score: \" + str(f1_score) + \n",
        "      \", Precision: \" + str(precision) + \", Recall: \" + str(recall))"
      ],
      "metadata": {
        "colab": {
          "base_uri": "https://localhost:8080/"
        },
        "id": "c2esEl6wRpF1",
        "outputId": "f591b052-8d6b-4b2d-c0f7-3aaef01bb751"
      },
      "execution_count": 15,
      "outputs": [
        {
          "output_type": "stream",
          "name": "stdout",
          "text": [
            "Accuracy: 0.939119170984456, F1-Score: 0.9365721997300945, Precision: 0.9830028328611898, Recall: 0.8943298969072165\n"
          ]
        }
      ]
    }
  ]
}