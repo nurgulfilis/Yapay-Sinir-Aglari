{
  "nbformat": 4,
  "nbformat_minor": 0,
  "metadata": {
    "colab": {
      "provenance": []
    },
    "kernelspec": {
      "name": "python3",
      "display_name": "Python 3"
    },
    "language_info": {
      "name": "python"
    },
    "gpuClass": "standard"
  },
  "cells": [
    {
      "cell_type": "code",
      "execution_count": 1,
      "metadata": {
        "id": "s2bOM7WVL7yq"
      },
      "outputs": [],
      "source": [
        "import numpy as np\n",
        "import pandas as pd\n",
        "import torch\n",
        "import torch.nn as nn\n",
        "\n",
        "import time"
      ]
    },
    {
      "cell_type": "markdown",
      "source": [
        "## Verinin Yüklenmesi"
      ],
      "metadata": {
        "id": "FXze3BYhMsuc"
      }
    },
    {
      "cell_type": "code",
      "source": [
        "start = time.time()"
      ],
      "metadata": {
        "id": "endsbrDFgK8C"
      },
      "execution_count": 2,
      "outputs": []
    },
    {
      "cell_type": "code",
      "source": [
        "train_data = pd.read_csv(\"/content/cure_the_princess_train.csv\")\n",
        "val_data = pd.read_csv(\"/content/cure_the_princess_validation.csv\")\n",
        "test_data = pd.read_csv(\"/content/cure_the_princess_test.csv\")"
      ],
      "metadata": {
        "id": "BWWHnBKHMx8O"
      },
      "execution_count": 3,
      "outputs": []
    },
    {
      "cell_type": "code",
      "source": [
        "train_data[\"Cured\"].value_counts()"
      ],
      "metadata": {
        "colab": {
          "base_uri": "https://localhost:8080/"
        },
        "id": "Rt59bepcQGSk",
        "outputId": "4b344202-1ac3-4c83-8f70-aaef87cac2fb"
      },
      "execution_count": 4,
      "outputs": [
        {
          "output_type": "execute_result",
          "data": {
            "text/plain": [
              "0    635\n",
              "1    617\n",
              "Name: Cured, dtype: int64"
            ]
          },
          "metadata": {},
          "execution_count": 4
        }
      ]
    },
    {
      "cell_type": "markdown",
      "source": [
        "## Verilerin Bölünmesi (inputs-labels şeklinde)"
      ],
      "metadata": {
        "id": "pIF0jBxAjkSv"
      }
    },
    {
      "cell_type": "code",
      "source": [
        "input_train = train_data[train_data.columns[:-1]]\n",
        "labels_train = train_data[train_data.columns[-1]]\n",
        "\n",
        "input_val = val_data[val_data.columns[:-1]]\n",
        "labels_val = val_data[val_data.columns[-1]]\n",
        "\n",
        "input_test = test_data[test_data.columns[:-1]]\n",
        "labels_test = test_data[test_data.columns[-1]]"
      ],
      "metadata": {
        "id": "Ge8t2h14i9Sf"
      },
      "execution_count": 5,
      "outputs": []
    },
    {
      "cell_type": "code",
      "source": [
        "input_train = torch.tensor(input_train.values, dtype=torch.float32)\n",
        "labels_train = torch.tensor(labels_train.values, dtype=torch.float32)\n",
        "input_val = torch.tensor(input_val.values, dtype=torch.float32)\n",
        "labels_val = torch.tensor(labels_val.values, dtype=torch.float32)\n",
        "input_test = torch.tensor(input_test.values, dtype=torch.float32)\n",
        "labels_test = torch.tensor(labels_test.values, dtype=torch.float32)"
      ],
      "metadata": {
        "id": "MWtgUJEuJHUZ"
      },
      "execution_count": 6,
      "outputs": []
    },
    {
      "cell_type": "markdown",
      "source": [
        "## Verilerin DataLoader Formatına Getirilmesi"
      ],
      "metadata": {
        "id": "YiXIAPtXQOyE"
      }
    },
    {
      "cell_type": "code",
      "source": [
        "torch.manual_seed(160401003)"
      ],
      "metadata": {
        "colab": {
          "base_uri": "https://localhost:8080/"
        },
        "id": "s9IfjAH5y62_",
        "outputId": "1a492e85-06e9-4014-c1d9-c8a26b2ed63f"
      },
      "execution_count": 7,
      "outputs": [
        {
          "output_type": "execute_result",
          "data": {
            "text/plain": [
              "<torch._C.Generator at 0x7f30aff5da50>"
            ]
          },
          "metadata": {},
          "execution_count": 7
        }
      ]
    },
    {
      "cell_type": "code",
      "source": [
        "from torch.utils.data import TensorDataset, DataLoader"
      ],
      "metadata": {
        "id": "JpFQ9yY0p5tQ"
      },
      "execution_count": 8,
      "outputs": []
    },
    {
      "cell_type": "code",
      "source": [
        "train_dataset = DataLoader(TensorDataset(input_train, labels_train), batch_size=16, shuffle=True)\n",
        "\n",
        "val_dataset = DataLoader(TensorDataset(input_val, labels_val), batch_size=16, shuffle=True)\n",
        "\n",
        "test_dataset = DataLoader(TensorDataset(input_test, labels_test), batch_size=16, shuffle=True)"
      ],
      "metadata": {
        "id": "lxz0KO2bvD0f"
      },
      "execution_count": 9,
      "outputs": []
    },
    {
      "cell_type": "markdown",
      "source": [
        "## Yapay Sinir Ağının Oluşturulması"
      ],
      "metadata": {
        "id": "JWjf6OazRghu"
      }
    },
    {
      "cell_type": "code",
      "source": [
        "class NeuralNet(nn.Module):\n",
        "    def __init__(self, num_input, num_neurons1, num_neurons2):\n",
        "        super(NeuralNet, self).__init__()\n",
        "        self.hidden_layer_1 = nn.Linear(num_input, num_neurons1) \n",
        "        self.hidden_layer_2 = nn.Linear(num_neurons1, num_neurons2)\n",
        "        self.output_layer = nn.Linear(num_neurons2, 1) \n",
        "\n",
        "        self.relu = nn.ReLU()\n",
        "        self.sigmoid = nn.Sigmoid()\n",
        "\n",
        "    def forward(self, x):\n",
        "        x = self.relu(self.hidden_layer_1(x))\n",
        "\n",
        "        x = self.relu(self.hidden_layer_2(x))\n",
        "\n",
        "        x = self.sigmoid(self.output_layer(x))\n",
        "\n",
        "        return x"
      ],
      "metadata": {
        "id": "ws6Unceijr7z"
      },
      "execution_count": 10,
      "outputs": []
    },
    {
      "cell_type": "markdown",
      "source": [
        "## Modelin Eğitilmesi"
      ],
      "metadata": {
        "id": "JBk_YmKeXW8r"
      }
    },
    {
      "cell_type": "code",
      "source": [
        "import matplotlib.pyplot as plt"
      ],
      "metadata": {
        "id": "ieAXFthZSryF"
      },
      "execution_count": 11,
      "outputs": []
    },
    {
      "cell_type": "code",
      "source": [
        "model = NeuralNet(13,100,50)\n",
        "lr=0.02\n",
        "num_epochs=120\n",
        "\n",
        "loss_func = nn.BCELoss()\n",
        "optimizer = torch.optim.SGD(model.parameters(), lr=lr)\n",
        "\n",
        "loss_train = []\n",
        "loss_val = []\n",
        "\n",
        "for epoch in range(num_epochs):\n",
        "\n",
        "  train_loss = 0.0\n",
        "  val_loss = 0.0\n",
        "  \n",
        "  for inputs, labels in train_dataset:\n",
        "      optimizer.zero_grad()\n",
        "\n",
        "      outputs = model(inputs)\n",
        "      labels = labels.unsqueeze(1)\n",
        "      loss = loss_func(outputs, labels)\n",
        "      loss.backward()\n",
        "      optimizer.step()\n",
        "\n",
        "      \n",
        "      train_loss += loss.item()\n",
        "    \n",
        "\n",
        "  model.eval()\n",
        "  with torch.no_grad():\n",
        "    for inputs, targets in val_dataset:\n",
        "      outputs = model(inputs)\n",
        "      targets = targets.reshape(-1,1)\n",
        "      loss = loss_func(outputs, targets)\n",
        "\n",
        "      val_loss += loss.item()\n",
        "\n",
        "  model.train()\n",
        "\n",
        "  train_loss /= len(train_dataset)\n",
        "  val_loss /= len(val_dataset)\n",
        "\n",
        "  print(f\"Epoch {epoch+1} train loss: {train_loss}, validation loss: {val_loss}\")\n",
        "\n",
        "  loss_train.append(train_loss)\n",
        "  loss_val.append(val_loss)\n",
        "\n",
        "plt.plot(loss_train, label='training Loss')\n",
        "plt.plot(loss_val, label='validation Loss')\n",
        "plt.xlabel('Epoch')\n",
        "plt.ylabel('Loss')\n",
        "plt.legend()\n",
        "plt.show()\n",
        "        \n",
        "\n",
        "print('Eğitim bitti.')"
      ],
      "metadata": {
        "colab": {
          "base_uri": "https://localhost:8080/",
          "height": 1000
        },
        "id": "0h2U5O_AoGqR",
        "outputId": "712f0f03-74d2-4765-e7b0-919c4e0f0827"
      },
      "execution_count": 12,
      "outputs": [
        {
          "output_type": "stream",
          "name": "stdout",
          "text": [
            "Epoch 1 train loss: 0.5552428036550933, validation loss: 0.3742512106895447\n",
            "Epoch 2 train loss: 0.37036441247674484, validation loss: 0.3352923460304737\n",
            "Epoch 3 train loss: 0.29825119155494473, validation loss: 0.2103345587849617\n",
            "Epoch 4 train loss: 0.25148538405759424, validation loss: 0.43087432608008386\n",
            "Epoch 5 train loss: 0.22069840694341478, validation loss: 0.18660524766892195\n",
            "Epoch 6 train loss: 0.2034378568582897, validation loss: 0.269787035509944\n",
            "Epoch 7 train loss: 0.17971688263778446, validation loss: 0.6911473169922828\n",
            "Epoch 8 train loss: 0.1656416064199013, validation loss: 0.15291846599429845\n",
            "Epoch 9 train loss: 0.14638618360969086, validation loss: 0.34173531644046307\n",
            "Epoch 10 train loss: 0.14865429206645187, validation loss: 0.18956794389523565\n",
            "Epoch 11 train loss: 0.14668562168939203, validation loss: 0.14041167767718435\n",
            "Epoch 12 train loss: 0.1136081189365138, validation loss: 0.15733758490532637\n",
            "Epoch 13 train loss: 0.12087481961691682, validation loss: 0.1418759573251009\n",
            "Epoch 14 train loss: 0.0989273233056257, validation loss: 0.20843163207173349\n",
            "Epoch 15 train loss: 0.11198263933669918, validation loss: 0.9204760409891606\n",
            "Epoch 16 train loss: 0.102720615465807, validation loss: 0.15108454413712025\n",
            "Epoch 17 train loss: 0.09821521853615495, validation loss: 0.15064744856208562\n",
            "Epoch 18 train loss: 0.08192061379999865, validation loss: 0.1541769108735025\n",
            "Epoch 19 train loss: 0.08052379476154058, validation loss: 0.22887724107131363\n",
            "Epoch 20 train loss: 0.09178806667487267, validation loss: 0.15622311430051922\n",
            "Epoch 21 train loss: 0.07677010426211578, validation loss: 0.15560082676820458\n",
            "Epoch 22 train loss: 0.06956888068337701, validation loss: 0.35384418950416147\n",
            "Epoch 23 train loss: 0.07344822743259181, validation loss: 0.15070547256618738\n",
            "Epoch 24 train loss: 0.05762127067457554, validation loss: 0.18255966873839496\n",
            "Epoch 25 train loss: 0.058175145839989374, validation loss: 0.13795838138321415\n",
            "Epoch 26 train loss: 0.0730666447654838, validation loss: 0.558115543727763\n",
            "Epoch 27 train loss: 0.05917231971545357, validation loss: 0.17934310991549865\n",
            "Epoch 28 train loss: 0.05821281109635919, validation loss: 0.19359883852303028\n",
            "Epoch 29 train loss: 0.04693784449054989, validation loss: 0.21460741367191077\n",
            "Epoch 30 train loss: 0.0473210392556672, validation loss: 0.17306357671041042\n",
            "Epoch 31 train loss: 0.04578299531816281, validation loss: 0.16277904277667404\n",
            "Epoch 32 train loss: 0.0464580840434101, validation loss: 1.4394337875768541\n",
            "Epoch 33 train loss: 0.06273274526746937, validation loss: 0.17411107025109232\n",
            "Epoch 34 train loss: 0.04221529087428994, validation loss: 0.16054579998017288\n",
            "Epoch 35 train loss: 0.031852528752753205, validation loss: 0.19917870392091572\n",
            "Epoch 36 train loss: 0.041171040373896337, validation loss: 0.18266595588065684\n",
            "Epoch 37 train loss: 0.03505339485569562, validation loss: 0.18862059667007997\n",
            "Epoch 38 train loss: 0.03221935484797069, validation loss: 0.1780972744920291\n",
            "Epoch 39 train loss: 0.030903616589287745, validation loss: 0.2202458526007831\n",
            "Epoch 40 train loss: 0.031897560827422275, validation loss: 0.17611700382549317\n",
            "Epoch 41 train loss: 0.028952204145614908, validation loss: 0.17407326710526833\n",
            "Epoch 42 train loss: 0.023039325531107917, validation loss: 0.17358358824858441\n",
            "Epoch 43 train loss: 0.025216798813640775, validation loss: 0.1725523950648494\n",
            "Epoch 44 train loss: 0.020293098337995478, validation loss: 0.20541410701116547\n",
            "Epoch 45 train loss: 0.024679398926562936, validation loss: 0.18607412779238075\n",
            "Epoch 46 train loss: 0.019635854985217176, validation loss: 0.17821048493497074\n",
            "Epoch 47 train loss: 0.02043114921657952, validation loss: 0.1859371682628989\n",
            "Epoch 48 train loss: 0.01969576113572922, validation loss: 0.23277118213591166\n",
            "Epoch 49 train loss: 0.018478643937980245, validation loss: 0.21756465623620896\n",
            "Epoch 50 train loss: 0.017973725838532163, validation loss: 0.23678627265617253\n",
            "Epoch 51 train loss: 0.05342974956460515, validation loss: 0.21409560236497782\n",
            "Epoch 52 train loss: 0.0219654797674363, validation loss: 0.18436734120550682\n",
            "Epoch 53 train loss: 0.01706677667007631, validation loss: 0.21398708968190477\n",
            "Epoch 54 train loss: 0.0156202008815105, validation loss: 0.2010325341136195\n",
            "Epoch 55 train loss: 0.013350210544547136, validation loss: 0.21382252186303957\n",
            "Epoch 56 train loss: 0.015735579776884164, validation loss: 0.20344630287727342\n",
            "Epoch 57 train loss: 0.015254714719739689, validation loss: 0.19178119899588636\n",
            "Epoch 58 train loss: 0.018579576803663084, validation loss: 0.22251243698992768\n",
            "Epoch 59 train loss: 0.01143712544525661, validation loss: 0.20276604476384819\n",
            "Epoch 60 train loss: 0.012025843518568774, validation loss: 0.21295462150592356\n",
            "Epoch 61 train loss: 0.01139529679089201, validation loss: 0.20951283612521365\n",
            "Epoch 62 train loss: 0.011921718744159517, validation loss: 0.3565591644495726\n",
            "Epoch 63 train loss: 0.011965798305441873, validation loss: 0.20068807080970147\n",
            "Epoch 64 train loss: 0.009596842073894746, validation loss: 0.21166462225373833\n",
            "Epoch 65 train loss: 0.008219025116904038, validation loss: 0.1998661976365838\n",
            "Epoch 66 train loss: 0.00805403635733248, validation loss: 0.20354367107065627\n",
            "Epoch 67 train loss: 0.009505413360565847, validation loss: 0.22285368041484616\n",
            "Epoch 68 train loss: 0.00831606141435236, validation loss: 0.2354118203453254\n",
            "Epoch 69 train loss: 0.007353946116186135, validation loss: 0.21366390408365987\n",
            "Epoch 70 train loss: 0.0067284566859045665, validation loss: 0.20967195661505683\n",
            "Epoch 71 train loss: 0.006775498040767587, validation loss: 0.239088271689252\n",
            "Epoch 72 train loss: 0.006833496698693378, validation loss: 0.21847206707461736\n",
            "Epoch 73 train loss: 0.006410551573152807, validation loss: 0.20891818470990983\n",
            "Epoch 74 train loss: 0.0063537863575738466, validation loss: 0.22930146470243926\n",
            "Epoch 75 train loss: 0.0058959824802990385, validation loss: 0.212120475716074\n",
            "Epoch 76 train loss: 0.0064195767855507475, validation loss: 0.21868508975021542\n",
            "Epoch 77 train loss: 0.0053237067322582715, validation loss: 0.20907881858729524\n",
            "Epoch 78 train loss: 0.005328207213004802, validation loss: 0.24133751300978473\n",
            "Epoch 79 train loss: 0.0057475664552494215, validation loss: 0.21806843711528928\n",
            "Epoch 80 train loss: 0.0053176337891750625, validation loss: 0.2415071200211969\n",
            "Epoch 81 train loss: 0.004735844913140474, validation loss: 0.2259249155613361\n",
            "Epoch 82 train loss: 0.004863005619064339, validation loss: 0.22874160719657083\n",
            "Epoch 83 train loss: 0.004580115606333055, validation loss: 0.23097286802585587\n",
            "Epoch 84 train loss: 0.004802128346259278, validation loss: 0.22429707328665244\n",
            "Epoch 85 train loss: 0.004543059583617913, validation loss: 0.22814468688011402\n",
            "Epoch 86 train loss: 0.0046439945489844, validation loss: 0.23289412914964486\n",
            "Epoch 87 train loss: 0.004496523958786833, validation loss: 0.26252390665613345\n",
            "Epoch 88 train loss: 0.004187465023900171, validation loss: 0.2616349242918659\n",
            "Epoch 89 train loss: 0.0038182256978905546, validation loss: 0.22013706622528845\n",
            "Epoch 90 train loss: 0.004270876425455097, validation loss: 0.22437287097855005\n",
            "Epoch 91 train loss: 0.0035741814877183835, validation loss: 0.24237900221924064\n",
            "Epoch 92 train loss: 0.0035864421529080157, validation loss: 0.24417178414587398\n",
            "Epoch 93 train loss: 0.0036471721929806737, validation loss: 0.23924606801592746\n",
            "Epoch 94 train loss: 0.0033640817775357147, validation loss: 0.23077862190257292\n",
            "Epoch 95 train loss: 0.003593811150367552, validation loss: 0.2372737776124268\n",
            "Epoch 96 train loss: 0.0033120558134755755, validation loss: 0.25034776965912897\n",
            "Epoch 97 train loss: 0.0032935547624450157, validation loss: 0.2377972871181555\n",
            "Epoch 98 train loss: 0.003615694296599883, validation loss: 0.23518717265542363\n",
            "Epoch 99 train loss: 0.0036164645835245358, validation loss: 0.24147874202462843\n",
            "Epoch 100 train loss: 0.0029100097352609366, validation loss: 0.242970299866829\n",
            "Epoch 101 train loss: 0.003064495320059801, validation loss: 0.24760453492053786\n",
            "Epoch 102 train loss: 0.0030265690481509054, validation loss: 0.24243554804706946\n",
            "Epoch 103 train loss: 0.00277580577909979, validation loss: 0.23939810931992725\n",
            "Epoch 104 train loss: 0.00277862158392526, validation loss: 0.23967646680757754\n",
            "Epoch 105 train loss: 0.0027229204940305888, validation loss: 0.23649359896880923\n",
            "Epoch 106 train loss: 0.002651823296161373, validation loss: 0.2408571143518202\n",
            "Epoch 107 train loss: 0.0025619918838810343, validation loss: 0.24687000595440622\n",
            "Epoch 108 train loss: 0.0026731643378574334, validation loss: 0.2596295098570408\n",
            "Epoch 109 train loss: 0.002472100402722194, validation loss: 0.2448055530578131\n",
            "Epoch 110 train loss: 0.002423597669331696, validation loss: 0.2564868340698013\n",
            "Epoch 111 train loss: 0.0024284133869514335, validation loss: 0.25317290456732733\n",
            "Epoch 112 train loss: 0.0021625384328896723, validation loss: 0.23630836210213602\n",
            "Epoch 113 train loss: 0.002360881441227666, validation loss: 0.25235038172468194\n",
            "Epoch 114 train loss: 0.0025777335947249056, validation loss: 0.22506478508701094\n",
            "Epoch 115 train loss: 0.002502545098754057, validation loss: 0.24596422475206053\n",
            "Epoch 116 train loss: 0.0020833105392647423, validation loss: 0.26000640736529024\n",
            "Epoch 117 train loss: 0.002314531001962977, validation loss: 0.25946312839732855\n",
            "Epoch 118 train loss: 0.0020563653752336142, validation loss: 0.2763040112971794\n",
            "Epoch 119 train loss: 0.0022034456259104984, validation loss: 0.2487909661314916\n",
            "Epoch 120 train loss: 0.0019112835610871162, validation loss: 0.25450153409437914\n"
          ]
        },
        {
          "output_type": "display_data",
          "data": {
            "text/plain": [
              "<Figure size 640x480 with 1 Axes>"
            ],
            "image/png": "[encoded data removed]"
          },
          "metadata": {}
        },
        {
          "output_type": "stream",
          "name": "stdout",
          "text": [
            "Eğitim bitti.\n"
          ]
        }
      ]
    },
    {
      "cell_type": "code",
      "source": [
        "end = time.time()\n",
        "print(end-start)"
      ],
      "metadata": {
        "id": "J3FrEq1WJaxF",
        "colab": {
          "base_uri": "https://localhost:8080/"
        },
        "outputId": "571e3503-9ae3-4d1d-8505-c484c8cc4fae"
      },
      "execution_count": 13,
      "outputs": [
        {
          "output_type": "stream",
          "name": "stdout",
          "text": [
            "21.935478448867798\n"
          ]
        }
      ]
    }
  ]
}