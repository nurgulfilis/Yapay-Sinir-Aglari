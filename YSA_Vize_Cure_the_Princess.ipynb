{
  "nbformat": 4,
  "nbformat_minor": 0,
  "metadata": {
    "colab": {
      "provenance": []
    },
    "kernelspec": {
      "name": "python3",
      "display_name": "Python 3"
    },
    "language_info": {
      "name": "python"
    },
    "gpuClass": "standard"
  },
  "cells": [
    {
      "cell_type": "code",
      "execution_count": 1,
      "metadata": {
        "id": "s2bOM7WVL7yq"
      },
      "outputs": [],
      "source": [
        "import numpy as np\n",
        "import pandas as pd\n",
        "import torch\n",
        "import torch.nn as nn"
      ]
    },
    {
      "cell_type": "markdown",
      "source": [
        "## Verinin Yüklenmesi"
      ],
      "metadata": {
        "id": "FXze3BYhMsuc"
      }
    },
    {
      "cell_type": "code",
      "source": [
        "train_data = pd.read_csv(\"/content/cure_the_princess_train.csv\")\n",
        "val_data = pd.read_csv(\"/content/cure_the_princess_validation.csv\")\n",
        "test_data = pd.read_csv(\"/content/cure_the_princess_test.csv\")"
      ],
      "metadata": {
        "id": "BWWHnBKHMx8O"
      },
      "execution_count": 2,
      "outputs": []
    },
    {
      "cell_type": "code",
      "source": [
        "train_data[\"Cured\"].value_counts()"
      ],
      "metadata": {
        "colab": {
          "base_uri": "https://localhost:8080/"
        },
        "id": "Rt59bepcQGSk",
        "outputId": "98d2918b-3a28-4b40-e9ee-3f3471d0ffa4"
      },
      "execution_count": 3,
      "outputs": [
        {
          "output_type": "execute_result",
          "data": {
            "text/plain": [
              "0    635\n",
              "1    617\n",
              "Name: Cured, dtype: int64"
            ]
          },
          "metadata": {},
          "execution_count": 3
        }
      ]
    },
    {
      "cell_type": "markdown",
      "source": [
        "## Verilerin Bölünmesi (inputs-labels şeklinde)"
      ],
      "metadata": {
        "id": "pIF0jBxAjkSv"
      }
    },
    {
      "cell_type": "code",
      "source": [
        "input_train = train_data[train_data.columns[:-1]]\n",
        "labels_train = train_data[train_data.columns[-1]]\n",
        "\n",
        "input_val = val_data[val_data.columns[:-1]]\n",
        "labels_val = val_data[val_data.columns[-1]]\n",
        "\n",
        "input_test = test_data[test_data.columns[:-1]]\n",
        "labels_test = test_data[test_data.columns[-1]]"
      ],
      "metadata": {
        "id": "Ge8t2h14i9Sf"
      },
      "execution_count": 4,
      "outputs": []
    },
    {
      "cell_type": "code",
      "source": [
        "input_train = torch.tensor(input_train.values, dtype=torch.float32)\n",
        "labels_train = torch.tensor(labels_train.values, dtype=torch.float32)\n",
        "input_val = torch.tensor(input_val.values, dtype=torch.float32)\n",
        "labels_val = torch.tensor(labels_val.values, dtype=torch.float32)\n",
        "input_test = torch.tensor(input_test.values, dtype=torch.float32)\n",
        "labels_test = torch.tensor(labels_test.values, dtype=torch.float32)"
      ],
      "metadata": {
        "id": "MWtgUJEuJHUZ"
      },
      "execution_count": 5,
      "outputs": []
    },
    {
      "cell_type": "markdown",
      "source": [
        "## Verilerin DataLoader Formatına Getirilmesi"
      ],
      "metadata": {
        "id": "YiXIAPtXQOyE"
      }
    },
    {
      "cell_type": "code",
      "source": [
        "torch.manual_seed(160401003)"
      ],
      "metadata": {
        "colab": {
          "base_uri": "https://localhost:8080/"
        },
        "id": "s9IfjAH5y62_",
        "outputId": "15d6c315-5843-4b45-b2dd-88828c52fa09"
      },
      "execution_count": 6,
      "outputs": [
        {
          "output_type": "execute_result",
          "data": {
            "text/plain": [
              "<torch._C.Generator at 0x7fc898c22d50>"
            ]
          },
          "metadata": {},
          "execution_count": 6
        }
      ]
    },
    {
      "cell_type": "code",
      "source": [
        "from torch.utils.data import TensorDataset, DataLoader"
      ],
      "metadata": {
        "id": "JpFQ9yY0p5tQ"
      },
      "execution_count": 7,
      "outputs": []
    },
    {
      "cell_type": "code",
      "source": [
        "train_dataset = DataLoader(TensorDataset(input_train, labels_train), batch_size=16, shuffle=True)\n",
        "\n",
        "val_dataset = DataLoader(TensorDataset(input_val, labels_val), batch_size=16, shuffle=True)\n",
        "\n",
        "test_dataset = DataLoader(TensorDataset(input_test, labels_test), batch_size=16, shuffle=True)"
      ],
      "metadata": {
        "id": "lxz0KO2bvD0f"
      },
      "execution_count": 8,
      "outputs": []
    },
    {
      "cell_type": "markdown",
      "source": [
        "## Yapay Sinir Ağının Oluşturulması"
      ],
      "metadata": {
        "id": "JWjf6OazRghu"
      }
    },
    {
      "cell_type": "code",
      "source": [
        "class NeuralNet(nn.Module):\n",
        "    def __init__(self, num_input, num_neurons1, num_neurons2):\n",
        "        super(NeuralNet, self).__init__()\n",
        "        self.hidden_layer_1 = nn.Linear(num_input, num_neurons1) \n",
        "        self.hidden_layer_2 = nn.Linear(num_neurons1, num_neurons2)\n",
        "        self.output_layer = nn.Linear(num_neurons2, 1) \n",
        "\n",
        "        self.relu = nn.ReLU()\n",
        "        self.sigmoid = nn.Sigmoid()\n",
        "\n",
        "    def forward(self, x):\n",
        "        x = self.relu(self.hidden_layer_1(x))\n",
        "\n",
        "        x = self.relu(self.hidden_layer_2(x))\n",
        "\n",
        "        x = self.sigmoid(self.output_layer(x))\n",
        "\n",
        "        return x"
      ],
      "metadata": {
        "id": "ws6Unceijr7z"
      },
      "execution_count": 9,
      "outputs": []
    },
    {
      "cell_type": "markdown",
      "source": [
        "## Modelin Eğitilmesi"
      ],
      "metadata": {
        "id": "JBk_YmKeXW8r"
      }
    },
    {
      "cell_type": "code",
      "source": [
        "import matplotlib.pyplot as plt"
      ],
      "metadata": {
        "id": "ieAXFthZSryF"
      },
      "execution_count": 10,
      "outputs": []
    },
    {
      "cell_type": "code",
      "source": [
        "model = NeuralNet(13,100,50)\n",
        "lr=0.001\n",
        "num_epochs=120\n",
        "\n",
        "loss_func = nn.BCELoss()\n",
        "optimizer = torch.optim.SGD(model.parameters(), lr=lr)\n",
        "\n",
        "loss_train = []\n",
        "loss_val = []\n",
        "\n",
        "best_val_score = None\n",
        "patience_number=7\n",
        "for epoch in range(num_epochs):\n",
        "\n",
        "  train_loss = 0.0\n",
        "  val_loss = 0.0\n",
        "  \n",
        "  for inputs, labels in train_dataset:\n",
        "      optimizer.zero_grad()\n",
        "\n",
        "      outputs = model(inputs)\n",
        "      labels = labels.unsqueeze(1)\n",
        "      loss = loss_func(outputs, labels)\n",
        "      loss.backward()\n",
        "      optimizer.step()\n",
        "\n",
        "      \n",
        "      train_loss += loss.item()\n",
        "    \n",
        "\n",
        "  model.eval()\n",
        "  with torch.no_grad():\n",
        "    for inputs, targets in val_dataset:\n",
        "      outputs = model(inputs)\n",
        "      targets = targets.reshape(-1,1)\n",
        "      loss = loss_func(outputs, targets)\n",
        "\n",
        "      val_loss += loss.item()\n",
        "\n",
        "  model.train()\n",
        "\n",
        "  train_loss /= len(train_dataset)\n",
        "  val_loss /= len(val_dataset)\n",
        "\n",
        "  print(f\"Epoch {epoch+1} train loss: {train_loss}, validation loss: {val_loss}\")\n",
        "\n",
        "  loss_train.append(train_loss)\n",
        "  loss_val.append(val_loss)\n",
        "\n",
        "  val_score = val_loss\n",
        "  if best_val_score is None:\n",
        "    best_val_score = val_score\n",
        "    torch.save(model.state_dict(), \"best_model.pt\")\n",
        "  elif best_val_score < val_score: \n",
        "    patience_counter += 1\n",
        "    print(\"Patience Counter:\",patience_counter)\n",
        "    if patience_counter == patience_number:\n",
        "      print(\"Stopping...\")\n",
        "      torch.save(model.state_dict(), \"best_model.pt\")\n",
        "      break\n",
        "  else:\n",
        "    best_val_score = val_score\n",
        "    torch.save(model.state_dict(), \"best_model.pt\")\n",
        "    patience_counter = 0\n",
        "  \n",
        "\n",
        "\n",
        "plt.plot(loss_train, label='training Loss')\n",
        "plt.plot(loss_val, label='validation Loss')\n",
        "plt.xlabel('Epoch')\n",
        "plt.ylabel('Loss')\n",
        "plt.legend()\n",
        "plt.show()\n",
        "        \n",
        "\n",
        "print('Eğitim bitti.')"
      ],
      "metadata": {
        "colab": {
          "base_uri": "https://localhost:8080/",
          "height": 1000
        },
        "id": "0h2U5O_AoGqR",
        "outputId": "0add792f-2828-45f4-cb35-2be2cf2672ca"
      },
      "execution_count": 11,
      "outputs": [
        {
          "output_type": "stream",
          "name": "stdout",
          "text": [
            "Epoch 1 train loss: 0.6682558414302294, validation loss: 0.5871512547135354\n",
            "Epoch 2 train loss: 0.5652281045913696, validation loss: 0.49377896189689635\n",
            "Epoch 3 train loss: 0.5024634162081948, validation loss: 0.4414946809411049\n",
            "Epoch 4 train loss: 0.4639140590082241, validation loss: 0.4515573889017105\n",
            "Patience Counter: 1\n",
            "Epoch 5 train loss: 0.4382129707668401, validation loss: 0.36871783509850503\n",
            "Epoch 6 train loss: 0.4149975880414625, validation loss: 0.3436203241348267\n",
            "Epoch 7 train loss: 0.3949772240240363, validation loss: 0.3600554257631302\n",
            "Patience Counter: 1\n",
            "Epoch 8 train loss: 0.3762491639656357, validation loss: 0.31398119404911995\n",
            "Epoch 9 train loss: 0.36920066630538506, validation loss: 0.30795930698513985\n",
            "Epoch 10 train loss: 0.34775205861918534, validation loss: 0.2898523278534412\n",
            "Epoch 11 train loss: 0.341447361662418, validation loss: 0.2935836143791676\n",
            "Patience Counter: 1\n",
            "Epoch 12 train loss: 0.33300887312315686, validation loss: 0.2722868904471397\n",
            "Epoch 13 train loss: 0.32262069741381877, validation loss: 0.25877960920333865\n",
            "Epoch 14 train loss: 0.3137163865038111, validation loss: 0.2554362893104553\n",
            "Epoch 15 train loss: 0.3167147172402732, validation loss: 0.2799746096134186\n",
            "Patience Counter: 1\n",
            "Epoch 16 train loss: 0.3047718716007245, validation loss: 0.2655886337161064\n",
            "Patience Counter: 2\n",
            "Epoch 17 train loss: 0.3011895006027403, validation loss: 0.28273519352078436\n",
            "Patience Counter: 3\n",
            "Epoch 18 train loss: 0.2958032910393763, validation loss: 0.23184441775083542\n",
            "Epoch 19 train loss: 0.28859040593799157, validation loss: 0.23480768464505672\n",
            "Patience Counter: 1\n",
            "Epoch 20 train loss: 0.28271989307448836, validation loss: 0.22402706667780875\n",
            "Epoch 21 train loss: 0.2795120680445357, validation loss: 0.2251234956085682\n",
            "Patience Counter: 1\n",
            "Epoch 22 train loss: 0.2772504939120027, validation loss: 0.22000932618975638\n",
            "Epoch 23 train loss: 0.2707570986468581, validation loss: 0.21984557546675204\n",
            "Epoch 24 train loss: 0.2676101843767528, validation loss: 0.2181620292365551\n",
            "Epoch 25 train loss: 0.26372554483292976, validation loss: 0.21383352056145669\n",
            "Epoch 26 train loss: 0.2664493862775308, validation loss: 0.2565439647063613\n",
            "Patience Counter: 1\n",
            "Epoch 27 train loss: 0.260101420498347, validation loss: 0.2144149884581566\n",
            "Patience Counter: 2\n",
            "Epoch 28 train loss: 0.2549368778738794, validation loss: 0.2068073108792305\n",
            "Epoch 29 train loss: 0.24810402604598034, validation loss: 0.22444893121719361\n",
            "Patience Counter: 1\n",
            "Epoch 30 train loss: 0.24763466193800485, validation loss: 0.20928588919341565\n",
            "Patience Counter: 2\n",
            "Epoch 31 train loss: 0.24787466954204102, validation loss: 0.20638912543654442\n",
            "Epoch 32 train loss: 0.24292953180361399, validation loss: 0.21837173737585544\n",
            "Patience Counter: 1\n",
            "Epoch 33 train loss: 0.24057015180116212, validation loss: 0.2045689720660448\n",
            "Epoch 34 train loss: 0.23647732070729702, validation loss: 0.19749508518725634\n",
            "Epoch 35 train loss: 0.23469498621512064, validation loss: 0.19541323520243167\n",
            "Epoch 36 train loss: 0.23413786744769616, validation loss: 0.1955066356807947\n",
            "Patience Counter: 1\n",
            "Epoch 37 train loss: 0.2315338783060448, validation loss: 0.20160152111202478\n",
            "Patience Counter: 2\n",
            "Epoch 38 train loss: 0.23207725895733772, validation loss: 0.19829655513167382\n",
            "Patience Counter: 3\n",
            "Epoch 39 train loss: 0.2264715379363374, validation loss: 0.193691461160779\n",
            "Epoch 40 train loss: 0.22383245052416115, validation loss: 0.19252201355993748\n",
            "Epoch 41 train loss: 0.21981851237861416, validation loss: 0.19103636741638183\n",
            "Epoch 42 train loss: 0.2170240267451051, validation loss: 0.1874311450868845\n",
            "Epoch 43 train loss: 0.21446341328039953, validation loss: 0.18704373445361852\n",
            "Epoch 44 train loss: 0.2175253292993654, validation loss: 0.1861817494034767\n",
            "Epoch 45 train loss: 0.21260246874976763, validation loss: 0.187981747277081\n",
            "Patience Counter: 1\n",
            "Epoch 46 train loss: 0.20815796810614912, validation loss: 0.19091066494584083\n",
            "Patience Counter: 2\n",
            "Epoch 47 train loss: 0.20785462700679333, validation loss: 0.18620167169719934\n",
            "Patience Counter: 3\n",
            "Epoch 48 train loss: 0.20585197549832018, validation loss: 0.18535269014537334\n",
            "Epoch 49 train loss: 0.20338790948632396, validation loss: 0.18773658331483603\n",
            "Patience Counter: 1\n",
            "Epoch 50 train loss: 0.20527636665332166, validation loss: 0.183646197989583\n",
            "Epoch 51 train loss: 0.19810050608047955, validation loss: 0.18983879424631595\n",
            "Patience Counter: 1\n",
            "Epoch 52 train loss: 0.1985022677933868, validation loss: 0.18923249542713166\n",
            "Patience Counter: 2\n",
            "Epoch 53 train loss: 0.19527030305913354, validation loss: 0.19312683194875718\n",
            "Patience Counter: 3\n",
            "Epoch 54 train loss: 0.193868341278049, validation loss: 0.18230667524039745\n",
            "Epoch 55 train loss: 0.19226228893746303, validation loss: 0.18897950686514378\n",
            "Patience Counter: 1\n",
            "Epoch 56 train loss: 0.19125495728435396, validation loss: 0.17883495949208736\n",
            "Epoch 57 train loss: 0.1904798006238062, validation loss: 0.17805798295885325\n",
            "Epoch 58 train loss: 0.18782581733186035, validation loss: 0.20985423382371665\n",
            "Patience Counter: 1\n",
            "Epoch 59 train loss: 0.1865654789099965, validation loss: 0.18782852943986655\n",
            "Patience Counter: 2\n",
            "Epoch 60 train loss: 0.1844061213910957, validation loss: 0.21032633166760206\n",
            "Patience Counter: 3\n",
            "Epoch 61 train loss: 0.18529085112334806, validation loss: 0.18280833177268505\n",
            "Patience Counter: 4\n",
            "Epoch 62 train loss: 0.19296982195935672, validation loss: 0.22993811778724194\n",
            "Patience Counter: 5\n",
            "Epoch 63 train loss: 0.18245240494231635, validation loss: 0.17469293531030416\n",
            "Epoch 64 train loss: 0.17929951690986187, validation loss: 0.18440813478082418\n",
            "Patience Counter: 1\n",
            "Epoch 65 train loss: 0.17488208224501792, validation loss: 0.18072318620979785\n",
            "Patience Counter: 2\n",
            "Epoch 66 train loss: 0.17773052172947534, validation loss: 0.20366660337895154\n",
            "Patience Counter: 3\n",
            "Epoch 67 train loss: 0.17476540388940257, validation loss: 0.19524875469505787\n",
            "Patience Counter: 4\n",
            "Epoch 68 train loss: 0.1727889004293122, validation loss: 0.17521024364978074\n",
            "Patience Counter: 5\n",
            "Epoch 69 train loss: 0.171977648063551, validation loss: 0.17260536141693592\n",
            "Epoch 70 train loss: 0.1726981909309007, validation loss: 0.19497927315533162\n",
            "Patience Counter: 1\n",
            "Epoch 71 train loss: 0.174282728399657, validation loss: 0.2060154229402542\n",
            "Patience Counter: 2\n",
            "Epoch 72 train loss: 0.16716351701960533, validation loss: 0.16890966035425664\n",
            "Epoch 73 train loss: 0.1665966143902344, validation loss: 0.17011821325868368\n",
            "Patience Counter: 1\n",
            "Epoch 74 train loss: 0.16711088048317765, validation loss: 0.18392460532486438\n",
            "Patience Counter: 2\n",
            "Epoch 75 train loss: 0.1645346026325339, validation loss: 0.1702151758596301\n",
            "Patience Counter: 3\n",
            "Epoch 76 train loss: 0.1645649576300307, validation loss: 0.1712092848494649\n",
            "Patience Counter: 4\n",
            "Epoch 77 train loss: 0.1617859800971007, validation loss: 0.1670817993581295\n",
            "Epoch 78 train loss: 0.1612710600270878, validation loss: 0.176385554112494\n",
            "Patience Counter: 1\n",
            "Epoch 79 train loss: 0.16023776609497734, validation loss: 0.17313949391245842\n",
            "Patience Counter: 2\n",
            "Epoch 80 train loss: 0.15802153436867875, validation loss: 0.17217263970524072\n",
            "Patience Counter: 3\n",
            "Epoch 81 train loss: 0.1561777716431814, validation loss: 0.1688097500242293\n",
            "Patience Counter: 4\n",
            "Epoch 82 train loss: 0.15813755779232405, validation loss: 0.16608103103935717\n",
            "Epoch 83 train loss: 0.15680163990281806, validation loss: 0.16939459946006535\n",
            "Patience Counter: 1\n",
            "Epoch 84 train loss: 0.1559759444922586, validation loss: 0.17045345082879065\n",
            "Patience Counter: 2\n",
            "Epoch 85 train loss: 0.15363072943461092, validation loss: 0.18739430624991654\n",
            "Patience Counter: 3\n",
            "Epoch 86 train loss: 0.15425875797113286, validation loss: 0.16386792482808232\n",
            "Epoch 87 train loss: 0.15181728565617453, validation loss: 0.1739783411845565\n",
            "Patience Counter: 1\n",
            "Epoch 88 train loss: 0.15220762897707238, validation loss: 0.17407125551253558\n",
            "Patience Counter: 2\n",
            "Epoch 89 train loss: 0.1501977673106933, validation loss: 0.1655862558633089\n",
            "Patience Counter: 3\n",
            "Epoch 90 train loss: 0.14858945924199268, validation loss: 0.16426752358675004\n",
            "Patience Counter: 4\n",
            "Epoch 91 train loss: 0.14835374933207715, validation loss: 0.16442319992929696\n",
            "Patience Counter: 5\n",
            "Epoch 92 train loss: 0.14645633905465844, validation loss: 0.20047488585114479\n",
            "Patience Counter: 6\n",
            "Epoch 93 train loss: 0.14748672891078116, validation loss: 0.16507919803261756\n",
            "Patience Counter: 7\n",
            "Stopping...\n"
          ]
        },
        {
          "output_type": "display_data",
          "data": {
            "text/plain": [
              "<Figure size 640x480 with 1 Axes>"
            ],
            "image/png": "[encoded data removed]"
          },
          "metadata": {}
        },
        {
          "output_type": "stream",
          "name": "stdout",
          "text": [
            "Eğitim bitti.\n"
          ]
        }
      ]
    },
    {
      "cell_type": "code",
      "source": [
        "from sklearn.metrics import accuracy_score, f1_score, precision_score, recall_score"
      ],
      "metadata": {
        "id": "amkUlTRNTBa5"
      },
      "execution_count": 12,
      "outputs": []
    },
    {
      "cell_type": "code",
      "source": [
        "best_model = NeuralNet(13,100,50)\n",
        "checkpoint = torch.load('/content/best_model.pt')\n",
        "best_model.load_state_dict(checkpoint)\n",
        "best_model.eval()\n",
        "\n",
        "preds = []\n",
        "real_labels = []\n",
        "\n",
        "with torch.no_grad():\n",
        "  for inputs,label in test_dataset:\n",
        "\n",
        "      output = best_model(inputs)\n",
        "\n",
        "      for i in output:\n",
        "        predict = 0 if i<0.5 else 1\n",
        "        preds.append(predict)\n",
        "     \n",
        "      \n",
        "      for i in label:\n",
        "        real_labels.append(int(i))\n",
        "\n",
        "accuracy = accuracy_score(real_labels,preds)      \n",
        "f1_score = f1_score(real_labels,preds)\n",
        "precision = precision_score(real_labels,preds)\n",
        "recall = recall_score(real_labels,preds)\n",
        "\n",
        "print(f\"Accuracy: \" + str(accuracy) +\", F1-Score: \" + str(f1_score) + \n",
        "      \", Precision: \" + str(precision) + \", Recall: \" + str(recall))"
      ],
      "metadata": {
        "id": "J3FrEq1WJaxF",
        "colab": {
          "base_uri": "https://localhost:8080/"
        },
        "outputId": "675ea90f-177a-4e48-b5ae-190702069c82"
      },
      "execution_count": 14,
      "outputs": [
        {
          "output_type": "stream",
          "name": "stdout",
          "text": [
            "Accuracy: 0.9352331606217616, F1-Score: 0.9331550802139037, Precision: 0.9694444444444444, Recall: 0.8994845360824743\n"
          ]
        }
      ]
    }
  ]
}